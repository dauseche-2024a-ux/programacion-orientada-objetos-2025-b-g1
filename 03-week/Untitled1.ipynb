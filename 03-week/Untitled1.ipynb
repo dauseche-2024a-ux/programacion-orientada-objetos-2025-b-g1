{
  "nbformat": 4,
  "nbformat_minor": 0,
  "metadata": {
    "colab": {
      "provenance": []
    },
    "kernelspec": {
      "name": "python3",
      "display_name": "Python 3"
    },
    "language_info": {
      "name": "python"
    }
  },
  "cells": [
    {
      "cell_type": "code",
      "execution_count": 3,
      "metadata": {
        "colab": {
          "base_uri": "https://localhost:8080/"
        },
        "id": "3tr77Hct40Jb",
        "outputId": "8fff8286-db9c-4a35-8c65-90f9284a47d0"
      },
      "outputs": [
        {
          "output_type": "stream",
          "name": "stdout",
          "text": [
            "📚 Biblioteca actual: [Libro(titulo='Cien Años de Soledad', autor='Gabriel García Márquez', año=1967, isbn='ISBN001'), Libro(titulo='Harry Potter y la Piedra Filosofal', autor='J.K. Rowling', año=1997, isbn='ISBN002'), Libro(titulo='1984', autor='George Orwell', año=1949, isbn='ISBN003')]\n",
            "\n",
            "🔍 Buscar por título 'Harry': [Libro(titulo='Harry Potter y la Piedra Filosofal', autor='J.K. Rowling', año=1997, isbn='ISBN002')]\n",
            "🔍 Buscar por autor 'Orwell': [Libro(titulo='1984', autor='George Orwell', año=1949, isbn='ISBN003')]\n",
            "\n",
            "❌ Eliminando libro con ISBN 'ISBN002'\n",
            "📚 Biblioteca después de eliminar: [Libro(titulo='Cien Años de Soledad', autor='Gabriel García Márquez', año=1967, isbn='ISBN001'), Libro(titulo='1984', autor='George Orwell', año=1949, isbn='ISBN003')]\n"
          ]
        }
      ],
      "source": [
        "# Clase Autor\n",
        "class Autor:\n",
        "    def __init__(self, nombre: str, nacionalidad: str = None):\n",
        "        if not nombre:\n",
        "            raise ValueError(\"El nombre del autor es obligatorio\")\n",
        "        self.nombre = nombre\n",
        "        self.nacionalidad = nacionalidad\n",
        "\n",
        "    def __repr__(self) -> str:\n",
        "        return f\"Autor(nombre='{self.nombre}', nacionalidad='{self.nacionalidad}')\"\n",
        "\n",
        "\n",
        "# Clase Libro\n",
        "class Libro:\n",
        "    def __init__(self, titulo: str, autor: Autor, año: int, isbn: str):\n",
        "        self.titulo = titulo\n",
        "        self.autor = autor  # Relación de composición con Autor\n",
        "        self.año = año\n",
        "        self.isbn = isbn\n",
        "\n",
        "    def __repr__(self) -> str:\n",
        "        return f\"Libro(titulo='{self.titulo}', autor='{self.autor.nombre}', año={self.año}, isbn='{self.isbn}')\"\n",
        "\n",
        "\n",
        "# Clase Biblioteca\n",
        "class Biblioteca:\n",
        "    def __init__(self):\n",
        "        self.libros: list[Libro] = []\n",
        "\n",
        "    def agregar_libro(self, libro: Libro):\n",
        "        \"\"\"Agrega un libro a la biblioteca\"\"\"\n",
        "        self.libros.append(libro)\n",
        "\n",
        "    def buscar_por_titulo(self, titulo: str):\n",
        "        \"\"\"Busca libros que coincidan con el título\"\"\"\n",
        "        return [libro for libro in self.libros if titulo.lower() in libro.titulo.lower()]\n",
        "\n",
        "    def buscar_por_autor(self, nombre_autor: str):\n",
        "        \"\"\"Busca libros por el nombre del autor\"\"\"\n",
        "        return [libro for libro in self.libros if nombre_autor.lower() in libro.autor.nombre.lower()]\n",
        "\n",
        "    def eliminar_por_isbn(self, isbn: str):\n",
        "        \"\"\"Elimina un libro según su ISBN\"\"\"\n",
        "        self.libros = [libro for libro in self.libros if libro.isbn != isbn]\n",
        "\n",
        "    def listar_libros(self):\n",
        "        \"\"\"Retorna copia de la lista de libros\"\"\"\n",
        "        return self.libros.copy()\n",
        "\n",
        "    def __repr__(self) -> str:\n",
        "        return f\"Biblioteca({len(self.libros)} libros)\"\n",
        "\n",
        "\n",
        "# ---------------- Ejemplo de uso ----------------\n",
        "autor1 = Autor(\"Gabriel García Márquez\", \"Colombiana\")\n",
        "autor2 = Autor(\"J.K. Rowling\", \"Británica\")\n",
        "autor3 = Autor(\"George Orwell\", \"Británica\")\n",
        "\n",
        "libro1 = Libro(\"Cien Años de Soledad\", autor1, 1967, \"ISBN001\")\n",
        "libro2 = Libro(\"Harry Potter y la Piedra Filosofal\", autor2, 1997, \"ISBN002\")\n",
        "libro3 = Libro(\"1984\", autor3, 1949, \"ISBN003\")\n",
        "\n",
        "biblioteca = Biblioteca()\n",
        "biblioteca.agregar_libro(libro1)\n",
        "biblioteca.agregar_libro(libro2)\n",
        "biblioteca.agregar_libro(libro3)\n",
        "\n",
        "print(\"📚 Biblioteca actual:\", biblioteca.listar_libros())\n",
        "\n",
        "print(\"\\n🔍 Buscar por título 'Harry':\", biblioteca.buscar_por_titulo(\"Harry\"))\n",
        "print(\"🔍 Buscar por autor 'Orwell':\", biblioteca.buscar_por_autor(\"Orwell\"))\n",
        "\n",
        "print(\"\\n❌ Eliminando libro con ISBN 'ISBN002'\")\n",
        "biblioteca.eliminar_por_isbn(\"ISBN002\")\n",
        "\n",
        "print(\"📚 Biblioteca después de eliminar:\", biblioteca.listar_libros())\n"
      ]
    }
  ]
}