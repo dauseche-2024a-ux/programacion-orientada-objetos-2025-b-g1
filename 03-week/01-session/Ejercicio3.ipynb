{
  "nbformat": 4,
  "nbformat_minor": 0,
  "metadata": {
    "colab": {
      "provenance": []
    },
    "kernelspec": {
      "name": "python3",
      "display_name": "Python 3"
    },
    "language_info": {
      "name": "python"
    }
  },
  "cells": [
    {
      "cell_type": "code",
      "execution_count": null,
      "metadata": {
        "id": "TXVgeeqfVEj7"
      },
      "outputs": [],
      "source": []
    },
    {
      "cell_type": "markdown",
      "source": [
        "# Clase Autor\n",
        "class Autor:\n",
        "    def __init__(self, nombre, nacionalidad=None):\n",
        "        self.nombre = nombre\n",
        "        self.nacionalidad = nacionalidad\n",
        "\n",
        "    def __str__(self):\n",
        "        return f\"{self.nombre} ({self.nacionalidad})\" if self.nacionalidad else self.nombre\n",
        "\n",
        "\n",
        "# Clase Libro\n",
        "class Libro:\n",
        "    def __init__(self, titulo, autor: Autor, anio, isbn):\n",
        "        self.titulo = titulo\n",
        "        self.autor = autor\n",
        "        self.anio = anio\n",
        "        self.isbn = isbn\n",
        "\n",
        "    def __str__(self):\n",
        "        return f\"'{self.titulo}' - {self.autor} - Año: {self.anio} - ISBN: {self.isbn}\"\n",
        "\n",
        "\n",
        "# Clase Biblioteca\n",
        "class Biblioteca:\n",
        "    def __init__(self):\n",
        "        self.libros = []\n",
        "\n",
        "    def agregar_libro(self, libro: Libro):\n",
        "        self.libros.append(libro)\n",
        "\n",
        "    def buscar_por_titulo(self, texto):\n",
        "        return [libro for libro in self.libros if texto.lower() in libro.titulo.lower()]\n",
        "\n",
        "    def buscar_por_autor(self, nombre):\n",
        "        return [libro for libro in self.libros if nombre.lower() in libro.autor.nombre.lower()]\n",
        "\n",
        "    def eliminar_por_isbn(self, isbn):\n",
        "        self.libros = [libro for libro in self.libros if libro.isbn != isbn]\n",
        "\n",
        "    def listar_libros(self):\n",
        "        return list(self.libros)\n",
        "\n",
        "\n",
        "# Ejemplo de uso\n",
        "autor1 = Autor(\"Gabriel García Márquez\", \"Colombia\")\n",
        "autor2 = Autor(\"J.K. Rowling\", \"Reino Unido\")\n",
        "\n",
        "libro1 = Libro(\"Cien Años de Soledad\", autor1, 1967, \"12345\")\n",
        "libro2 = Libro(\"Harry Potter y la Piedra Filosofal\", autor2, 1997, \"67890\")\n",
        "libro3 = Libro(\"El Amor en los Tiempos del Cólera\", autor1, 1985, \"54321\")\n",
        "\n",
        "biblioteca = Biblioteca()\n",
        "biblioteca.agregar_libro(libro1)\n",
        "biblioteca.agregar_libro(libro2)\n",
        "biblioteca.agregar_libro(libro3)\n",
        "\n",
        "print(\"📚 Lista completa:\")\n",
        "for libro in biblioteca.listar_libros():\n",
        "    print(libro)\n",
        "\n",
        "print(\"\\n🔍 Buscar por título 'Harry':\")\n",
        "for libro in biblioteca.buscar_por_titulo(\"Harry\"):\n",
        "    print(libro)\n",
        "\n",
        "print(\"\\n🔍 Buscar por autor 'Gabriel':\")\n",
        "for libro in biblioteca.buscar_por_autor(\"Gabriel\"):\n",
        "    print(libro)\n",
        "\n",
        "print(\"\\n❌ Eliminar libro con ISBN 67890...\")\n",
        "biblioteca.eliminar_por_isbn(\"67890\")\n",
        "\n",
        "print(\"\\n📚 Lista después de eliminar:\")\n",
        "for libro in biblioteca.listar_libros():\n",
        "    print(libro)"
      ],
      "metadata": {
        "id": "aLZBIvQrVF0G"
      }
    }
  ]
}