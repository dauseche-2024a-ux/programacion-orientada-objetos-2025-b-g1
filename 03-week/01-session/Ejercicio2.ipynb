{
  "nbformat": 4,
  "nbformat_minor": 0,
  "metadata": {
    "colab": {
      "provenance": []
    },
    "kernelspec": {
      "name": "python3",
      "display_name": "Python 3"
    },
    "language_info": {
      "name": "python"
    }
  },
  "cells": [
    {
      "cell_type": "code",
      "execution_count": null,
      "metadata": {
        "id": "4GE7T1g1Oj-m"
      },
      "outputs": [],
      "source": []
    },
    {
      "cell_type": "markdown",
      "source": [
        "# Nuestro punto de partida: tenemos un capital inicial de 100,000 pesos.\n",
        "capital = 100000\n",
        "\n",
        "# --- Primera transacción ---\n",
        "# Pregunta qué queremos hacer: \"1\" para retirar o \"2\" para depositar.\n",
        "# Imaginemos que introduces un \"1\" para retirar.\n",
        "print(\"Capital actual:\", capital)\n",
        "accion = int(input(\"Transacción 1: ¿Qué desea hacer? (1= retiro | 2 = consignación): \"))\n",
        "# Luego, te pregunta cuánto quieres retirar.\n",
        "# Imaginemos que introduces \"5000\".\n",
        "valor_transaccion = float(input(\"Valor de la transacción: \"))\n",
        "\n",
        "# El programa revisa tu elección.\n",
        "if accion == 1:\n",
        "    # Como elegiste \"1\", resta los 5,000 al capital.\n",
        "    capital = capital - valor_transaccion\n",
        "    print(\"Retiraste 5000.\")\n",
        "elif accion == 2:\n",
        "    # Si hubieras elegido \"2\", lo sumaría.\n",
        "    capital = capital + valor_transaccion\n",
        "    print(\"Consignaste 5000.\")\n",
        "else:\n",
        "    # Si no es 1 ni 2, muestra un mensaje de error.\n",
        "    print(\"Opción no válida. No se realizó la transacción.\")\n",
        "\n",
        "# --- Segunda transacción ---\n",
        "# Ahora, con el capital actualizado, el programa te pregunta de nuevo.\n",
        "print(\"\\nCapital actual:\", capital)\n",
        "accion = int(input(\"Transacción 2: ¿Qué desea hacer? (1= retiro | 2 = consignación): \"))\n",
        "# Esta vez, imaginemos que introduces un \"2\" para depositar.\n",
        "# Te pregunta cuánto vas a depositar. Imaginemos que introduces \"20000\".\n",
        "valor_transaccion = float(input(\"Valor de la transacción: \"))\n",
        "\n",
        "# De nuevo, el programa revisa tu elección.\n",
        "if accion == 1:\n",
        "    # Si hubieras elegido \"1\", restaría 20,000.\n",
        "    capital = capital - valor_transaccion\n",
        "    print(\"Retiraste 20000.\")\n",
        "elif accion == 2:\n",
        "    # Como elegiste \"2\", suma los 20,000 al capital.\n",
        "    capital = capital + valor_transaccion\n",
        "    print(\"Consignaste 20000.\")\n",
        "else:\n",
        "    print(\"Opción no válida. No se realizó la transacción.\")\n",
        "\n",
        "# Finalmente, el programa te muestra cuánto dinero te queda.\n",
        "# En este ejemplo, te quedarían 100,000 - 5,000 + 20,000 = 115,000.\n",
        "print(f\"\\nCapital final: {capital}\")"
      ],
      "metadata": {
        "id": "9fPt9eCvPUyG"
      }
    }
  ]
}