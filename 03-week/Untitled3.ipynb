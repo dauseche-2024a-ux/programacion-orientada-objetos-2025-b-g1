{
  "nbformat": 4,
  "nbformat_minor": 0,
  "metadata": {
    "colab": {
      "provenance": []
    },
    "kernelspec": {
      "name": "python3",
      "display_name": "Python 3"
    },
    "language_info": {
      "name": "python"
    }
  },
  "cells": [
    {
      "cell_type": "code",
      "execution_count": null,
      "metadata": {
        "id": "zrYrLWVQ7woy"
      },
      "outputs": [],
      "source": [
        "from abc import ABC, abstractmethod\n",
        "import random\n",
        "\n",
        "# Clase abstracta\n",
        "class Sensor(ABC):\n",
        "    @abstractmethod\n",
        "    def leer(self):\n",
        "        \"\"\"Devuelve un valor leído del sensor\"\"\"\n",
        "        pass\n",
        "\n",
        "    @classmethod\n",
        "    def from_config(cls, cfg):\n",
        "        \"\"\"Crea un objeto de la clase concreta a partir de un diccionario de configuración\"\"\"\n",
        "        tipo = cfg[\"tipo\"]\n",
        "        if tipo == \"temperatura\":\n",
        "            return SensorTemperatura(cfg.get(\"offset\", 0))\n",
        "        elif tipo == \"humedad\":\n",
        "            return SensorHumedad(cfg.get(\"escala\", 1.0))\n",
        "        else:\n",
        "            raise ValueError(f\"Tipo de sensor no reconocido: {tipo}\")\n",
        "\n",
        "# Clase concreta: Temperatura\n",
        "class SensorTemperatura(Sensor):\n",
        "    def __init__(self, offset: float):\n",
        "        self.offset = offset\n",
        "\n",
        "    def leer(self):\n",
        "        # Simula un valor entre 20 y 30 grados y le suma el offset\n",
        "        return random.uniform(20, 30) + self.offset\n",
        "\n",
        "# Clase concreta: Humedad\n",
        "class SensorHumedad(Sensor):\n",
        "    def __init__(self, escala: float):\n",
        "        self.escala = escala\n",
        "\n",
        "    def leer(self):\n",
        "        # Simula un valor entre 40% y 70% y lo multiplica por la escala\n",
        "        return random.uniform(40, 70) * self.escala\n",
        "\n",
        "# Fábrica de sensores\n",
        "def crear_sensor(cfg):\n",
        "    \"\"\"Crea un sensor a partir de la configuración\"\"\"\n",
        "    return Sensor.from_config(cfg)\n",
        "\n",
        "# -------------------------------\n",
        "# Ejemplo de configuración y uso\n",
        "# -------------------------------\n",
        "cfg_temp = {\"tipo\": \"temperatura\", \"offset\": 1.5}\n",
        "cfg_hum = {\"tipo\": \"humedad\", \"escala\": 0.8}\n",
        "\n",
        "sensor1 = crear_sensor(cfg_temp)\n",
        "sensor2 = crear_sensor(cfg_hum)\n",
        "\n",
        "print(\"Lectura sensor temperatura:\", sensor1.leer())\n",
        "print(\"Lectura sensor humedad:\", sensor2.leer())\n"
      ]
    }
  ]
}